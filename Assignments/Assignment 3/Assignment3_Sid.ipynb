{
  "cells": [
    {
      "cell_type": "markdown",
      "metadata": {
        "id": "rQlZVTF741R9"
      },
      "source": [
        "# Assignment 3: Build a seq2seq model for machine translation.\n",
        "\n",
        "### Name: Siddharth Harsukh Pansuria CWID: 20005837\n",
        "\n",
        "### Task: Change LSTM model to Bidirectional LSTM Model， translate English to target language and evaluate using Bleu score.\n",
        "\n",
        "### Due Date: Tuesday, April 19th, 11:59PM"
      ]
    },
    {
      "cell_type": "markdown",
      "metadata": {
        "id": "uLYIM8x141R_"
      },
      "source": [
        "## 0. You will do the following:\n",
        "\n",
        "1. Read and run the code. Please make sure you have installed keras or tensorflow.Running the script on colab will speed up the training process and also prevent package loading issue. \n",
        "2. Complete the code in Section 1.1, you may fill in your data directory.\n",
        "3. Directly modify the code in Section 3. Change the current LSTM layer to a Bidirectional LSTM Model.\n",
        "4. Training your model and translate English to Spanish in Section 4.2. You could try translating other languages.\n",
        "5. Complete the code in Section 5."
      ]
    },
    {
      "cell_type": "markdown",
      "metadata": {
        "id": "owWq35xx41SA"
      },
      "source": [
        "### Hint: \n",
        "\n",
        "To implement ```Bi-LSTM```, you will need the following code to build the encoder. Do NOT use Bi-LSTM for the decoder. But there are other codes you need to modify to make it work."
      ]
    },
    {
      "cell_type": "code",
      "execution_count": 39,
      "metadata": {
        "id": "obRt4m-d41SA"
      },
      "outputs": [],
      "source": [
        "# from keras.layers import Bidirectional, Concatenate\n",
        "\n",
        "# encoder_bilstm = Bidirectional(LSTM(latent_dim, return_state=True, \n",
        "#                                   dropout=0.5, name='encoder_lstm'))\n",
        "# _, forward_h, forward_c, backward_h, backward_c = encoder_bilstm(encoder_inputs)\n",
        "\n",
        "# state_h = Concatenate()([forward_h, backward_h])\n",
        "# state_c = Concatenate()([forward_c, backward_c])"
      ]
    },
    {
      "cell_type": "markdown",
      "metadata": {
        "id": "iVPL-0lN41SC"
      },
      "source": [
        "## 1. Data preparation (10 points)\n",
        "\n",
        "1. Download spanish-english data from http://www.manythings.org/anki/\n",
        "2. You may try to use other languages.\n",
        "3. Unzip the .ZIP file.\n",
        "4. Put the .TXT file (e.g., \"deu.txt\") in the directory \"./Data/\".\n",
        "5. Fill in your data directory in section 1.1."
      ]
    },
    {
      "cell_type": "markdown",
      "metadata": {
        "id": "GHNNREIX41SC"
      },
      "source": [
        "### 1.1. Load and clean text\n"
      ]
    },
    {
      "cell_type": "code",
      "execution_count": 40,
      "metadata": {
        "id": "t_f4cD2J41SC"
      },
      "outputs": [],
      "source": [
        "import re\n",
        "import string\n",
        "from unicodedata import normalize\n",
        "import numpy\n",
        "\n",
        "# load doc into memory\n",
        "def load_doc(filename):\n",
        "    # open the file as read only\n",
        "    file = open(filename, mode='rt', encoding='utf-8')\n",
        "    # read all text\n",
        "    text = file.read()\n",
        "    # close the file\n",
        "    file.close()\n",
        "    return text\n",
        "\n",
        "\n",
        "# split a loaded document into sentences\n",
        "def to_pairs(doc):\n",
        "    lines = doc.strip().split('\\n')\n",
        "    pairs = [line.split('\\t') for line in  lines]\n",
        "    return pairs\n",
        "\n",
        "def clean_data(lines):\n",
        "    cleaned = list()\n",
        "    # prepare regex for char filtering\n",
        "    re_print = re.compile('[^%s]' % re.escape(string.printable))\n",
        "    # prepare translation table for removing punctuation\n",
        "    table = str.maketrans('', '', string.punctuation)\n",
        "    for pair in lines:\n",
        "        clean_pair = list()\n",
        "        for line in pair:\n",
        "            # normalize unicode characters\n",
        "            line = normalize('NFD', line).encode('ascii', 'ignore')\n",
        "            line = line.decode('UTF-8')\n",
        "            # tokenize on white space\n",
        "            line = line.split()\n",
        "            # convert to lowercase\n",
        "            line = [word.lower() for word in line]\n",
        "            # remove punctuation from each token\n",
        "            line = [word.translate(table) for word in line]\n",
        "            # remove non-printable chars form each token\n",
        "            line = [re_print.sub('', w) for w in line]\n",
        "            # remove tokens with numbers in them\n",
        "            line = [word for word in line if word.isalpha()]\n",
        "            # store as string\n",
        "            clean_pair.append(' '.join(line))\n",
        "        cleaned.append(clean_pair)\n",
        "    return numpy.array(cleaned)"
      ]
    },
    {
      "cell_type": "markdown",
      "metadata": {
        "id": "wOh3jbvu41SD"
      },
      "source": [
        "#### Fill the following blanks:"
      ]
    },
    {
      "cell_type": "code",
      "execution_count": 41,
      "metadata": {
        "id": "KiuO1AFy41SD"
      },
      "outputs": [],
      "source": [
        "# e.g., filename = 'Data/deu.txt'\n",
        "filename = 'spa.txt'\n",
        "\n",
        "# e.g., n_train = 30000\n",
        "n_train = 30000"
      ]
    },
    {
      "cell_type": "code",
      "execution_count": 42,
      "metadata": {
        "colab": {
          "base_uri": "https://localhost:8080/"
        },
        "id": "VpUGdd0U41SE",
        "outputId": "6b75cb80-4e61-4c72-fd42-a8d2aac67743"
      },
      "outputs": [
        {
          "output_type": "stream",
          "name": "stdout",
          "text": [
            "138437\n"
          ]
        }
      ],
      "source": [
        "# load dataset\n",
        "doc = load_doc(filename)\n",
        "\n",
        "# split into Language1-Language2 pairs\n",
        "pairs = to_pairs(doc)\n",
        "print(len(pairs))\n",
        "\n",
        "rand_indices = numpy.random.permutation(30000)\n",
        "\n",
        "# clean sentences\n",
        "clean_pairs = clean_data(pairs)[rand_indices, :]"
      ]
    },
    {
      "cell_type": "code",
      "execution_count": 43,
      "metadata": {
        "colab": {
          "base_uri": "https://localhost:8080/"
        },
        "id": "-wqQz1dS41SE",
        "outputId": "6b17b805-9510-46fb-b795-3a9031fc7ddf"
      },
      "outputs": [
        {
          "output_type": "stream",
          "name": "stdout",
          "text": [
            "[buy the full version] => [compra la version completa]\n",
            "[breathe normally] => [respira tranquilo]\n",
            "[we survived] => [sobrevivimos]\n",
            "[its good to be home] => [es bueno estar en casa]\n",
            "[have you seen tom] => [viste a tom]\n",
            "[is it bad] => [es grave]\n",
            "[i need sugar] => [necesito azucar]\n",
            "[you smell] => [apestas]\n",
            "[whos your friend] => [quien es tu amigo]\n",
            "[do you smoke cigars] => [fumas puros]\n"
          ]
        }
      ],
      "source": [
        "for i in range(3000, 3010):\n",
        "    print('[' + clean_pairs[i, 0] + '] => [' + clean_pairs[i, 1] + ']')"
      ]
    },
    {
      "cell_type": "code",
      "execution_count": 44,
      "metadata": {
        "colab": {
          "base_uri": "https://localhost:8080/"
        },
        "id": "NuJZiXvZ41SE",
        "outputId": "85694a85-983b-457c-f864-ea6b78354b36"
      },
      "outputs": [
        {
          "output_type": "stream",
          "name": "stdout",
          "text": [
            "Length of input_texts:  (30000,)\n",
            "Length of target_texts: (30000,)\n"
          ]
        }
      ],
      "source": [
        "input_texts = clean_pairs[:, 0]\n",
        "target_texts = ['\\t' + text + '\\n' for text in clean_pairs[:, 1]]\n",
        "\n",
        "print('Length of input_texts:  ' + str(input_texts.shape))\n",
        "print('Length of target_texts: ' + str(input_texts.shape))"
      ]
    },
    {
      "cell_type": "code",
      "execution_count": 45,
      "metadata": {
        "colab": {
          "base_uri": "https://localhost:8080/"
        },
        "id": "r6CFp4LA41SE",
        "outputId": "f85ed656-a7ef-48b5-d13a-a492060515af"
      },
      "outputs": [
        {
          "output_type": "stream",
          "name": "stdout",
          "text": [
            "max length of input  sentences: 20\n",
            "max length of target sentences: 68\n"
          ]
        }
      ],
      "source": [
        "max_encoder_seq_length = max(len(line) for line in input_texts)\n",
        "max_decoder_seq_length = max(len(line) for line in target_texts)\n",
        "\n",
        "print('max length of input  sentences: %d' % (max_encoder_seq_length))\n",
        "print('max length of target sentences: %d' % (max_decoder_seq_length))"
      ]
    },
    {
      "cell_type": "markdown",
      "metadata": {
        "id": "SzK3YN9l41SE"
      },
      "source": [
        "**Remark:** To this end, you have two lists of sentences: input_texts and target_texts"
      ]
    },
    {
      "cell_type": "markdown",
      "metadata": {
        "id": "BXqtnAt041SF"
      },
      "source": [
        "## 2. Text processing\n",
        "\n",
        "### 2.1. Convert texts to sequences\n",
        "\n",
        "- Input: A list of $n$ sentences (with max length $t$).\n",
        "- It is represented by a $n\\times t$ matrix after the tokenization and zero-padding."
      ]
    },
    {
      "cell_type": "code",
      "execution_count": 46,
      "metadata": {
        "colab": {
          "base_uri": "https://localhost:8080/"
        },
        "id": "xBv2A4Jl41SF",
        "outputId": "9df6f79a-5f00-48bd-f88a-eb1857a58738"
      },
      "outputs": [
        {
          "output_type": "stream",
          "name": "stdout",
          "text": [
            "shape of encoder_input_seq: (30000, 20)\n",
            "shape of input_token_index: 27\n",
            "shape of decoder_input_seq: (30000, 68)\n",
            "shape of target_token_index: 29\n"
          ]
        }
      ],
      "source": [
        "from keras.preprocessing.text import Tokenizer\n",
        "from keras.preprocessing.sequence import pad_sequences\n",
        "\n",
        "# encode and pad sequences\n",
        "def text2sequences(max_len, lines):\n",
        "    tokenizer = Tokenizer(char_level=True, filters='')\n",
        "    tokenizer.fit_on_texts(lines)\n",
        "    seqs = tokenizer.texts_to_sequences(lines)\n",
        "    seqs_pad = pad_sequences(seqs, maxlen=max_len, padding='post')\n",
        "    return seqs_pad, tokenizer.word_index\n",
        "\n",
        "\n",
        "encoder_input_seq, input_token_index = text2sequences(max_encoder_seq_length, \n",
        "                                                      input_texts)\n",
        "decoder_input_seq, target_token_index = text2sequences(max_decoder_seq_length, \n",
        "                                                       target_texts)\n",
        "\n",
        "print('shape of encoder_input_seq: ' + str(encoder_input_seq.shape))\n",
        "print('shape of input_token_index: ' + str(len(input_token_index)))\n",
        "print('shape of decoder_input_seq: ' + str(decoder_input_seq.shape))\n",
        "print('shape of target_token_index: ' + str(len(target_token_index)))"
      ]
    },
    {
      "cell_type": "code",
      "execution_count": 47,
      "metadata": {
        "colab": {
          "base_uri": "https://localhost:8080/"
        },
        "id": "sC3fkKf541SF",
        "outputId": "0553234a-8d40-47bf-b8a5-d908dea851ff"
      },
      "outputs": [
        {
          "output_type": "stream",
          "name": "stdout",
          "text": [
            "num_encoder_tokens: 28\n",
            "num_decoder_tokens: 30\n"
          ]
        }
      ],
      "source": [
        "num_encoder_tokens = len(input_token_index) + 1\n",
        "num_decoder_tokens = len(target_token_index) + 1\n",
        "\n",
        "print('num_encoder_tokens: ' + str(num_encoder_tokens))\n",
        "print('num_decoder_tokens: ' + str(num_decoder_tokens))"
      ]
    },
    {
      "cell_type": "markdown",
      "metadata": {
        "id": "9DkFxoSf41SF"
      },
      "source": [
        "**Remark:** To this end, the input language and target language texts are converted to 2 matrices. \n",
        "\n",
        "- Their number of rows are both n_train.\n",
        "- Their number of columns are respective max_encoder_seq_length and max_decoder_seq_length."
      ]
    },
    {
      "cell_type": "markdown",
      "metadata": {
        "id": "ojmzRcYm41SF"
      },
      "source": [
        "The followings print a sentence and its representation as a sequence."
      ]
    },
    {
      "cell_type": "code",
      "execution_count": 48,
      "metadata": {
        "colab": {
          "base_uri": "https://localhost:8080/",
          "height": 35
        },
        "id": "RuXY70gT41SG",
        "outputId": "29b0f496-5b82-4b90-de11-f5b9f88d49c1"
      },
      "outputs": [
        {
          "output_type": "execute_result",
          "data": {
            "text/plain": [
              "'\\tdivierte a tom\\n'"
            ],
            "application/vnd.google.colaboratory.intrinsic+json": {
              "type": "string"
            }
          },
          "metadata": {},
          "execution_count": 48
        }
      ],
      "source": [
        "target_texts[100]"
      ]
    },
    {
      "cell_type": "code",
      "execution_count": 49,
      "metadata": {
        "colab": {
          "base_uri": "https://localhost:8080/"
        },
        "id": "uFzehp5-41SG",
        "outputId": "9a4ad757-8b6f-48c1-f0fd-b6d7d59b7930"
      },
      "outputs": [
        {
          "output_type": "execute_result",
          "data": {
            "text/plain": [
              "array([ 6, 15, 11, 19, 11,  2, 10,  9,  2,  1,  3,  1,  9,  4, 13,  7,  0,\n",
              "        0,  0,  0,  0,  0,  0,  0,  0,  0,  0,  0,  0,  0,  0,  0,  0,  0,\n",
              "        0,  0,  0,  0,  0,  0,  0,  0,  0,  0,  0,  0,  0,  0,  0,  0,  0,\n",
              "        0,  0,  0,  0,  0,  0,  0,  0,  0,  0,  0,  0,  0,  0,  0,  0,  0],\n",
              "      dtype=int32)"
            ]
          },
          "metadata": {},
          "execution_count": 49
        }
      ],
      "source": [
        "decoder_input_seq[100, :]"
      ]
    },
    {
      "cell_type": "markdown",
      "metadata": {
        "id": "6c6y0Gj341SG"
      },
      "source": [
        "## 2.2. One-hot encode\n",
        "\n",
        "- Input: A list of $n$ sentences (with max length $t$).\n",
        "- It is represented by a $n\\times t$ matrix after the tokenization and zero-padding.\n",
        "- It is represented by a $n\\times t \\times v$ tensor ($t$ is the number of unique chars) after the one-hot encoding."
      ]
    },
    {
      "cell_type": "code",
      "execution_count": 50,
      "metadata": {
        "colab": {
          "base_uri": "https://localhost:8080/"
        },
        "id": "2t94Y75H41SG",
        "outputId": "67132718-7ac5-47f4-be8c-cbb9fa7c7c26"
      },
      "outputs": [
        {
          "output_type": "stream",
          "name": "stdout",
          "text": [
            "(30000, 20, 28)\n",
            "(30000, 68, 30)\n"
          ]
        }
      ],
      "source": [
        "from tensorflow.keras.utils import to_categorical\n",
        "\n",
        "# one hot encode target sequence\n",
        "def onehot_encode(sequences, max_len, vocab_size):\n",
        "    n = len(sequences)\n",
        "    data = numpy.zeros((n, max_len, vocab_size))\n",
        "    for i in range(n):\n",
        "        data[i, :, :] = to_categorical(sequences[i], num_classes=vocab_size)\n",
        "    return data\n",
        "\n",
        "encoder_input_data = onehot_encode(encoder_input_seq, max_encoder_seq_length, num_encoder_tokens)\n",
        "decoder_input_data = onehot_encode(decoder_input_seq, max_decoder_seq_length, num_decoder_tokens)\n",
        "\n",
        "decoder_target_seq = numpy.zeros(decoder_input_seq.shape)\n",
        "decoder_target_seq[:, 0:-1] = decoder_input_seq[:, 1:]\n",
        "decoder_target_data = onehot_encode(decoder_target_seq, \n",
        "                                    max_decoder_seq_length, \n",
        "                                    num_decoder_tokens)\n",
        "\n",
        "print(encoder_input_data.shape)\n",
        "print(decoder_input_data.shape)"
      ]
    },
    {
      "cell_type": "markdown",
      "metadata": {
        "id": "D1zh19Kn41SG"
      },
      "source": [
        "## 3. Build the networks (for training) (20 points)\n",
        "\n",
        "- In this section, we have already implemented the LSTM model for you. You can run the code and see what the code is doing.  \n",
        "\n",
        "- You need to change the existing LSTM model to a Bidirectional LSTM model. Just modify the network structrue and do not change the training cell in section 3.4.\n",
        "\n",
        "- Build encoder, decoder, and connect the two modules to get \"model\". \n",
        "\n",
        "- Fit the model on the bilingual data to train the parameters in the encoder and decoder.\n",
        "\n"
      ]
    },
    {
      "cell_type": "markdown",
      "metadata": {
        "id": "EgnqfVB741SH"
      },
      "source": [
        "### 3.1. Encoder network\n",
        "\n",
        "- Input:  one-hot encode of the input language\n",
        "\n",
        "- Return: \n",
        "\n",
        "    -- output (all the hidden states   $h_1, \\cdots , h_t$) are always discarded\n",
        "    \n",
        "    -- the final hidden state  $h_t$\n",
        "    \n",
        "    -- the final conveyor belt $c_t$"
      ]
    },
    {
      "cell_type": "code",
      "execution_count": 51,
      "metadata": {
        "id": "jVf4G0O641SH"
      },
      "outputs": [],
      "source": [
        "from tensorflow.keras.layers import Input, LSTM\n",
        "from tensorflow.keras.models import Model\n",
        "\n",
        "latent_dim = 256\n",
        "\n",
        "# inputs of the encoder network\n",
        "encoder_inputs = Input(shape=(None, num_encoder_tokens), \n",
        "                       name='encoder_inputs')\n",
        "\n",
        "# # set the LSTM layer\n",
        "# encoder_lstm = LSTM(latent_dim, return_state=True, \n",
        "#                     dropout=0.5, name='encoder_lstm')\n",
        "# _, state_h, state_c = encoder_lstm(encoder_inputs)\n",
        "\n",
        "# # build the encoder network model\n",
        "# encoder_model = Model(inputs=encoder_inputs, \n",
        "#                       outputs=[state_h, state_c],\n",
        "#                       name='encoder')\n",
        "\n",
        "from keras.layers import Bidirectional, Concatenate\n",
        "\n",
        "encoder_bilstm = Bidirectional(LSTM(latent_dim, return_state=True, \n",
        "                                  dropout=0.5, name='encoder_lstm'))\n",
        "_, forward_h, forward_c, backward_h, backward_c = encoder_bilstm(encoder_inputs)\n",
        "\n",
        "state_h = Concatenate()([forward_h, backward_h])\n",
        "state_c = Concatenate()([forward_c, backward_c])\n",
        "\n",
        "# build the encoder network model\n",
        "encoder_model = Model(inputs=encoder_inputs, \n",
        "                      outputs=[state_h, state_c],\n",
        "                      name='encoder')"
      ]
    },
    {
      "cell_type": "markdown",
      "metadata": {
        "id": "i4fwNZIO41SH"
      },
      "source": [
        "Print a summary and save the encoder network structure to \"./encoder.pdf\""
      ]
    },
    {
      "cell_type": "code",
      "execution_count": 52,
      "metadata": {
        "colab": {
          "base_uri": "https://localhost:8080/"
        },
        "id": "ls5pNC1T41SH",
        "outputId": "d4631fcb-2bd3-49f8-fdef-90f60706f31b"
      },
      "outputs": [
        {
          "output_type": "stream",
          "name": "stdout",
          "text": [
            "Model: \"encoder\"\n",
            "__________________________________________________________________________________________________\n",
            " Layer (type)                   Output Shape         Param #     Connected to                     \n",
            "==================================================================================================\n",
            " encoder_inputs (InputLayer)    [(None, None, 28)]   0           []                               \n",
            "                                                                                                  \n",
            " bidirectional_1 (Bidirectional  [(None, 512),       583680      ['encoder_inputs[0][0]']         \n",
            " )                               (None, 256),                                                     \n",
            "                                 (None, 256),                                                     \n",
            "                                 (None, 256),                                                     \n",
            "                                 (None, 256)]                                                     \n",
            "                                                                                                  \n",
            " concatenate_2 (Concatenate)    (None, 512)          0           ['bidirectional_1[0][1]',        \n",
            "                                                                  'bidirectional_1[0][3]']        \n",
            "                                                                                                  \n",
            " concatenate_3 (Concatenate)    (None, 512)          0           ['bidirectional_1[0][2]',        \n",
            "                                                                  'bidirectional_1[0][4]']        \n",
            "                                                                                                  \n",
            "==================================================================================================\n",
            "Total params: 583,680\n",
            "Trainable params: 583,680\n",
            "Non-trainable params: 0\n",
            "__________________________________________________________________________________________________\n"
          ]
        }
      ],
      "source": [
        "from IPython.display import SVG\n",
        "from keras.utils.vis_utils import model_to_dot, plot_model\n",
        "\n",
        "SVG(model_to_dot(encoder_model, show_shapes=False).create(prog='dot', format='svg'))\n",
        "\n",
        "plot_model(\n",
        "    model=encoder_model, show_shapes=False,\n",
        "    to_file='encoder.pdf'\n",
        ")\n",
        "\n",
        "encoder_model.summary()"
      ]
    },
    {
      "cell_type": "markdown",
      "metadata": {
        "id": "6B1B29ke41SH"
      },
      "source": [
        "### 3.2. Decoder network\n",
        "\n",
        "- Inputs:  \n",
        "\n",
        "    -- one-hot encode of the target language\n",
        "    \n",
        "    -- The initial hidden state $h_t$ \n",
        "    \n",
        "    -- The initial conveyor belt $c_t$ \n",
        "\n",
        "- Return: \n",
        "\n",
        "    -- output (all the hidden states) $h_1, \\cdots , h_t$\n",
        "\n",
        "    -- the final hidden state  $h_t$ (discarded in the training and used in the prediction)\n",
        "    \n",
        "    -- the final conveyor belt $c_t$ (discarded in the training and used in the prediction)"
      ]
    },
    {
      "cell_type": "code",
      "execution_count": 53,
      "metadata": {
        "id": "C0BSonbx41SH"
      },
      "outputs": [],
      "source": [
        "from keras.layers import Input, LSTM, Dense\n",
        "from keras.models import Model\n",
        "\n",
        "# inputs of the decoder network\n",
        "decoder_input_h = Input(shape=(2*latent_dim,), name='decoder_input_h')\n",
        "decoder_input_c = Input(shape=(2*latent_dim,), name='decoder_input_c')\n",
        "decoder_input_x = Input(shape=(None, num_decoder_tokens), name='decoder_input_x')\n",
        "\n",
        "# set the LSTM layer\n",
        "decoder_lstm = LSTM(2*latent_dim, return_sequences=True, \n",
        "                    return_state=True, dropout=0.5, name='decoder_lstm')\n",
        "decoder_lstm_outputs, state_h, state_c = decoder_lstm(decoder_input_x, \n",
        "                                                      initial_state=[decoder_input_h, decoder_input_c])\n",
        "\n",
        "# set the dense layer\n",
        "decoder_dense = Dense(num_decoder_tokens, activation='softmax', name='decoder_dense')\n",
        "decoder_outputs = decoder_dense(decoder_lstm_outputs)\n",
        "\n",
        "# build the decoder network model\n",
        "decoder_model = Model(inputs=[decoder_input_x, decoder_input_h, decoder_input_c],\n",
        "                      outputs=[decoder_outputs, state_h, state_c],\n",
        "                      name='decoder')"
      ]
    },
    {
      "cell_type": "markdown",
      "metadata": {
        "id": "PkJ3VPjD41SI"
      },
      "source": [
        "Print a summary and save the encoder network structure to \"./decoder.pdf\""
      ]
    },
    {
      "cell_type": "code",
      "execution_count": 54,
      "metadata": {
        "colab": {
          "base_uri": "https://localhost:8080/"
        },
        "id": "IFwLxSh041SI",
        "outputId": "db7814e4-0123-4ab2-8aef-39c1297a85f4"
      },
      "outputs": [
        {
          "output_type": "stream",
          "name": "stdout",
          "text": [
            "Model: \"decoder\"\n",
            "__________________________________________________________________________________________________\n",
            " Layer (type)                   Output Shape         Param #     Connected to                     \n",
            "==================================================================================================\n",
            " decoder_input_x (InputLayer)   [(None, None, 30)]   0           []                               \n",
            "                                                                                                  \n",
            " decoder_input_h (InputLayer)   [(None, 512)]        0           []                               \n",
            "                                                                                                  \n",
            " decoder_input_c (InputLayer)   [(None, 512)]        0           []                               \n",
            "                                                                                                  \n",
            " decoder_lstm (LSTM)            [(None, None, 512),  1112064     ['decoder_input_x[0][0]',        \n",
            "                                 (None, 512),                     'decoder_input_h[0][0]',        \n",
            "                                 (None, 512)]                     'decoder_input_c[0][0]']        \n",
            "                                                                                                  \n",
            " decoder_dense (Dense)          (None, None, 30)     15390       ['decoder_lstm[0][0]']           \n",
            "                                                                                                  \n",
            "==================================================================================================\n",
            "Total params: 1,127,454\n",
            "Trainable params: 1,127,454\n",
            "Non-trainable params: 0\n",
            "__________________________________________________________________________________________________\n"
          ]
        }
      ],
      "source": [
        "from IPython.display import SVG\n",
        "from keras.utils.vis_utils import model_to_dot, plot_model\n",
        "\n",
        "SVG(model_to_dot(decoder_model, show_shapes=False).create(prog='dot', format='svg'))\n",
        "\n",
        "plot_model(\n",
        "    model=decoder_model, show_shapes=False,\n",
        "    to_file='decoder.pdf'\n",
        ")\n",
        "\n",
        "decoder_model.summary()"
      ]
    },
    {
      "cell_type": "markdown",
      "metadata": {
        "id": "j9FnhXRq41SI"
      },
      "source": [
        "### 3.3. Connect the encoder and decoder"
      ]
    },
    {
      "cell_type": "code",
      "execution_count": 55,
      "metadata": {
        "id": "PDoszrQN41SJ"
      },
      "outputs": [],
      "source": [
        "# input layers\n",
        "encoder_input_x = Input(shape=(None, num_encoder_tokens), name='encoder_input_x')\n",
        "decoder_input_x = Input(shape=(None, num_decoder_tokens), name='decoder_input_x')\n",
        "\n",
        "# connect encoder to decoder\n",
        "encoder_final_states = encoder_model([encoder_input_x])\n",
        "decoder_lstm_output, _, _ = decoder_lstm(decoder_input_x, initial_state=encoder_final_states)\n",
        "decoder_pred = decoder_dense(decoder_lstm_output)\n",
        "\n",
        "model = Model(inputs=[encoder_input_x, decoder_input_x], \n",
        "              outputs=decoder_pred, \n",
        "              name='model_training')"
      ]
    },
    {
      "cell_type": "code",
      "execution_count": 56,
      "metadata": {
        "colab": {
          "base_uri": "https://localhost:8080/"
        },
        "id": "P93M2vhgkXPW",
        "outputId": "18e163ce-a0b8-415c-e0ff-60eb1ba6bc5d"
      },
      "outputs": [
        {
          "output_type": "stream",
          "name": "stdout",
          "text": [
            "KerasTensor(type_spec=TensorSpec(shape=(None, 512), dtype=tf.float32, name=None), name='decoder_lstm/PartitionedCall:2', description=\"created by layer 'decoder_lstm'\")\n",
            "KerasTensor(type_spec=TensorSpec(shape=(None, 512), dtype=tf.float32, name='decoder_input_h'), name='decoder_input_h', description=\"created by layer 'decoder_input_h'\")\n"
          ]
        }
      ],
      "source": [
        "print(state_h)\n",
        "print(decoder_input_h)"
      ]
    },
    {
      "cell_type": "code",
      "execution_count": 57,
      "metadata": {
        "colab": {
          "base_uri": "https://localhost:8080/"
        },
        "id": "HT7rQ36p41SJ",
        "outputId": "8fa5eef3-e5a0-451c-9a8d-642846ed6aa7"
      },
      "outputs": [
        {
          "output_type": "stream",
          "name": "stdout",
          "text": [
            "Model: \"model_training\"\n",
            "__________________________________________________________________________________________________\n",
            " Layer (type)                   Output Shape         Param #     Connected to                     \n",
            "==================================================================================================\n",
            " encoder_input_x (InputLayer)   [(None, None, 28)]   0           []                               \n",
            "                                                                                                  \n",
            " decoder_input_x (InputLayer)   [(None, None, 30)]   0           []                               \n",
            "                                                                                                  \n",
            " encoder (Functional)           [(None, 512),        583680      ['encoder_input_x[0][0]']        \n",
            "                                 (None, 512)]                                                     \n",
            "                                                                                                  \n",
            " decoder_lstm (LSTM)            [(None, None, 512),  1112064     ['decoder_input_x[0][0]',        \n",
            "                                 (None, 512),                     'encoder[0][0]',                \n",
            "                                 (None, 512)]                     'encoder[0][1]']                \n",
            "                                                                                                  \n",
            " decoder_dense (Dense)          (None, None, 30)     15390       ['decoder_lstm[1][0]']           \n",
            "                                                                                                  \n",
            "==================================================================================================\n",
            "Total params: 1,711,134\n",
            "Trainable params: 1,711,134\n",
            "Non-trainable params: 0\n",
            "__________________________________________________________________________________________________\n"
          ]
        }
      ],
      "source": [
        "from IPython.display import SVG\n",
        "from keras.utils.vis_utils import model_to_dot, plot_model\n",
        "\n",
        "SVG(model_to_dot(model, show_shapes=False).create(prog='dot', format='svg'))\n",
        "\n",
        "plot_model(\n",
        "    model=model, show_shapes=False,\n",
        "    to_file='model_training.pdf'\n",
        ")\n",
        "\n",
        "model.summary()"
      ]
    },
    {
      "cell_type": "markdown",
      "metadata": {
        "id": "aXyaPyLE41SJ"
      },
      "source": [
        "### 3.4. Fit the model on the bilingual dataset\n",
        "\n",
        "- encoder_input_data: one-hot encode of the input language\n",
        "\n",
        "- decoder_input_data: one-hot encode of the input language\n",
        "\n",
        "- decoder_target_data: labels (left shift of decoder_input_data)\n",
        "\n",
        "- tune the hyper-parameters\n",
        "\n",
        "- stop when the validation loss stop decreasing."
      ]
    },
    {
      "cell_type": "code",
      "execution_count": 58,
      "metadata": {
        "colab": {
          "base_uri": "https://localhost:8080/"
        },
        "id": "MjWrjLGg41SJ",
        "outputId": "4a41186d-9f26-4421-ff19-86de97293c4a"
      },
      "outputs": [
        {
          "output_type": "stream",
          "name": "stdout",
          "text": [
            "shape of encoder_input_data(30000, 20, 28)\n",
            "shape of decoder_input_data(30000, 68, 30)\n",
            "shape of decoder_target_data(30000, 68, 30)\n"
          ]
        }
      ],
      "source": [
        "print('shape of encoder_input_data' + str(encoder_input_data.shape))\n",
        "print('shape of decoder_input_data' + str(decoder_input_data.shape))\n",
        "print('shape of decoder_target_data' + str(decoder_target_data.shape))"
      ]
    },
    {
      "cell_type": "code",
      "execution_count": 59,
      "metadata": {
        "id": "vAw9rWEO0lfG"
      },
      "outputs": [],
      "source": [
        "model.compile(optimizer='rmsprop', loss='categorical_crossentropy')\n",
        "model.save_weights('model_pretrain.h5')"
      ]
    },
    {
      "cell_type": "code",
      "execution_count": 60,
      "metadata": {
        "colab": {
          "base_uri": "https://localhost:8080/"
        },
        "id": "UBGE001V41SJ",
        "outputId": "c5741792-7383-47f8-9727-80e3908bb893"
      },
      "outputs": [
        {
          "output_type": "stream",
          "name": "stdout",
          "text": [
            "Epoch 1/50\n",
            "375/375 [==============================] - 29s 66ms/step - loss: 0.8006 - val_loss: 0.5796\n",
            "Epoch 2/50\n",
            "375/375 [==============================] - 23s 62ms/step - loss: 0.6269 - val_loss: 0.5148\n",
            "Epoch 3/50\n",
            "375/375 [==============================] - 23s 62ms/step - loss: 0.5890 - val_loss: 0.4680\n",
            "Epoch 4/50\n",
            "375/375 [==============================] - 23s 62ms/step - loss: 0.5642 - val_loss: 0.4398\n",
            "Epoch 5/50\n",
            "375/375 [==============================] - 23s 62ms/step - loss: 0.5443 - val_loss: 0.4167\n",
            "Epoch 6/50\n",
            "375/375 [==============================] - 23s 62ms/step - loss: 0.5296 - val_loss: 0.4005\n",
            "Epoch 7/50\n",
            "375/375 [==============================] - 23s 62ms/step - loss: 0.5154 - val_loss: 0.3878\n",
            "Epoch 8/50\n",
            "375/375 [==============================] - 23s 61ms/step - loss: 0.5043 - val_loss: 0.3743\n",
            "Epoch 9/50\n",
            "375/375 [==============================] - 23s 62ms/step - loss: 0.4923 - val_loss: 0.3628\n",
            "Epoch 10/50\n",
            "375/375 [==============================] - 23s 62ms/step - loss: 0.4840 - val_loss: 0.3526\n",
            "Epoch 11/50\n",
            "375/375 [==============================] - 23s 61ms/step - loss: 0.4749 - val_loss: 0.3438\n",
            "Epoch 12/50\n",
            "375/375 [==============================] - 23s 61ms/step - loss: 0.4678 - val_loss: 0.3375\n",
            "Epoch 13/50\n",
            "375/375 [==============================] - 23s 62ms/step - loss: 0.4609 - val_loss: 0.3321\n",
            "Epoch 14/50\n",
            "375/375 [==============================] - 23s 62ms/step - loss: 0.4547 - val_loss: 0.3251\n",
            "Epoch 15/50\n",
            "375/375 [==============================] - 23s 62ms/step - loss: 0.4485 - val_loss: 0.3217\n",
            "Epoch 16/50\n",
            "375/375 [==============================] - 23s 61ms/step - loss: 0.4431 - val_loss: 0.3159\n",
            "Epoch 17/50\n",
            "375/375 [==============================] - 23s 62ms/step - loss: 0.4383 - val_loss: 0.3108\n",
            "Epoch 18/50\n",
            "375/375 [==============================] - 23s 61ms/step - loss: 0.4333 - val_loss: 0.3081\n",
            "Epoch 19/50\n",
            "375/375 [==============================] - 23s 62ms/step - loss: 0.4297 - val_loss: 0.3030\n",
            "Epoch 20/50\n",
            "375/375 [==============================] - 23s 62ms/step - loss: 0.4250 - val_loss: 0.3011\n",
            "Epoch 21/50\n",
            "375/375 [==============================] - 23s 62ms/step - loss: 0.4210 - val_loss: 0.2976\n",
            "Epoch 22/50\n",
            "375/375 [==============================] - 23s 62ms/step - loss: 0.4177 - val_loss: 0.2951\n",
            "Epoch 23/50\n",
            "375/375 [==============================] - 23s 62ms/step - loss: 0.4133 - val_loss: 0.2910\n",
            "Epoch 24/50\n",
            "375/375 [==============================] - 23s 61ms/step - loss: 0.4111 - val_loss: 0.2899\n",
            "Epoch 25/50\n",
            "375/375 [==============================] - 23s 61ms/step - loss: 0.4084 - val_loss: 0.2869\n",
            "Epoch 26/50\n",
            "375/375 [==============================] - 23s 62ms/step - loss: 0.4034 - val_loss: 0.2859\n",
            "Epoch 27/50\n",
            "375/375 [==============================] - 23s 62ms/step - loss: 0.4025 - val_loss: 0.2835\n",
            "Epoch 28/50\n",
            "375/375 [==============================] - 23s 62ms/step - loss: 0.3979 - val_loss: 0.2815\n",
            "Epoch 29/50\n",
            "375/375 [==============================] - 23s 62ms/step - loss: 0.3962 - val_loss: 0.2799\n",
            "Epoch 30/50\n",
            "375/375 [==============================] - 23s 62ms/step - loss: 0.3942 - val_loss: 0.2811\n",
            "Epoch 31/50\n",
            "375/375 [==============================] - 23s 61ms/step - loss: 0.3906 - val_loss: 0.2764\n",
            "Epoch 32/50\n",
            "375/375 [==============================] - 23s 62ms/step - loss: 0.3886 - val_loss: 0.2767\n",
            "Epoch 33/50\n",
            "375/375 [==============================] - 23s 62ms/step - loss: 0.3857 - val_loss: 0.2750\n",
            "Epoch 34/50\n",
            "375/375 [==============================] - 23s 62ms/step - loss: 0.3838 - val_loss: 0.2739\n",
            "Epoch 35/50\n",
            "375/375 [==============================] - 23s 62ms/step - loss: 0.3819 - val_loss: 0.2714\n",
            "Epoch 36/50\n",
            "375/375 [==============================] - 23s 62ms/step - loss: 0.3805 - val_loss: 0.2715\n",
            "Epoch 37/50\n",
            "375/375 [==============================] - 23s 61ms/step - loss: 0.3768 - val_loss: 0.2690\n",
            "Epoch 38/50\n",
            "375/375 [==============================] - 23s 62ms/step - loss: 0.3755 - val_loss: 0.2688\n",
            "Epoch 39/50\n",
            "375/375 [==============================] - 23s 62ms/step - loss: 0.3728 - val_loss: 0.2675\n",
            "Epoch 40/50\n",
            "375/375 [==============================] - 23s 62ms/step - loss: 0.3720 - val_loss: 0.2665\n",
            "Epoch 41/50\n",
            "375/375 [==============================] - 23s 62ms/step - loss: 0.3706 - val_loss: 0.2671\n",
            "Epoch 42/50\n",
            "375/375 [==============================] - 23s 62ms/step - loss: 0.3669 - val_loss: 0.2647\n",
            "Epoch 43/50\n",
            "375/375 [==============================] - 23s 61ms/step - loss: 0.3662 - val_loss: 0.2646\n",
            "Epoch 44/50\n",
            "375/375 [==============================] - 23s 61ms/step - loss: 0.3646 - val_loss: 0.2630\n",
            "Epoch 45/50\n",
            "375/375 [==============================] - 23s 61ms/step - loss: 0.3644 - val_loss: 0.2629\n",
            "Epoch 46/50\n",
            "375/375 [==============================] - 23s 61ms/step - loss: 0.3601 - val_loss: 0.2626\n",
            "Epoch 47/50\n",
            "375/375 [==============================] - 23s 61ms/step - loss: 0.3599 - val_loss: 0.2616\n",
            "Epoch 48/50\n",
            "375/375 [==============================] - 23s 61ms/step - loss: 0.3568 - val_loss: 0.2614\n",
            "Epoch 49/50\n",
            "375/375 [==============================] - 23s 62ms/step - loss: 0.3560 - val_loss: 0.2598\n",
            "Epoch 50/50\n",
            "375/375 [==============================] - 23s 62ms/step - loss: 0.3539 - val_loss: 0.2576\n"
          ]
        }
      ],
      "source": [
        "model.load_weights('model_pretrain.h5')\n",
        "model.compile(optimizer='rmsprop', loss='categorical_crossentropy')\n",
        "model.fit([encoder_input_data, decoder_input_data],  # training data\n",
        "          decoder_target_data,                       # labels (left shift of the target sequences)\n",
        "          batch_size=64, epochs=50, validation_split=0.2)\n",
        "\n",
        "model.save('seq2seq.h5')"
      ]
    },
    {
      "cell_type": "markdown",
      "metadata": {
        "id": "beQXtY9t41SK"
      },
      "source": [
        "## 4. Make predictions\n",
        "\n",
        "- In this section, you need to complete section 4.2 to translate English to the target language.\n",
        "\n",
        "\n",
        "### 4.1. Translate English to XXX\n",
        "\n",
        "1. Encoder read a sentence (source language) and output its final states, $h_t$ and $c_t$.\n",
        "2. Take the [star] sign \"\\t\" and the final state $h_t$ and $c_t$ as input and run the decoder.\n",
        "3. Get the new states and predicted probability distribution.\n",
        "4. sample a char from the predicted probability distribution\n",
        "5. take the sampled char and the new states as input and repeat the process (stop if reach the [stop] sign \"\\n\")."
      ]
    },
    {
      "cell_type": "code",
      "execution_count": 61,
      "metadata": {
        "id": "ZD-oPH0441SK"
      },
      "outputs": [],
      "source": [
        "# Reverse-lookup token index to decode sequences back to something readable.\n",
        "reverse_input_char_index = dict((i, char) for char, i in input_token_index.items())\n",
        "reverse_target_char_index = dict((i, char) for char, i in target_token_index.items())"
      ]
    },
    {
      "cell_type": "code",
      "execution_count": 62,
      "metadata": {
        "id": "LS0cfkNP41SK"
      },
      "outputs": [],
      "source": [
        "def decode_sequence(input_seq):\n",
        "    states_value = encoder_model.predict(input_seq)\n",
        "\n",
        "    target_seq = numpy.zeros((1, 1, num_decoder_tokens))\n",
        "    target_seq[0, 0, target_token_index['\\t']] = 1.\n",
        "\n",
        "    stop_condition = False\n",
        "    decoded_sentence = ''\n",
        "    while not stop_condition:\n",
        "        output_tokens, h, c = decoder_model.predict([target_seq] + states_value)\n",
        "\n",
        "        # this line of code is greedy selection\n",
        "        # try to use multinomial sampling instead (with temperature)\n",
        "        sampled_token_index = numpy.argmax(output_tokens[0, -1, :])\n",
        "        \n",
        "        sampled_char = reverse_target_char_index[sampled_token_index]\n",
        "        decoded_sentence += sampled_char\n",
        "\n",
        "        if (sampled_char == '\\n' or\n",
        "           len(decoded_sentence) > max_decoder_seq_length):\n",
        "            stop_condition = True\n",
        "\n",
        "        target_seq = numpy.zeros((1, 1, num_decoder_tokens))\n",
        "        target_seq[0, 0, sampled_token_index] = 1.\n",
        "\n",
        "        states_value = [h, c]\n",
        "\n",
        "    return decoded_sentence\n"
      ]
    },
    {
      "cell_type": "code",
      "execution_count": 63,
      "metadata": {
        "colab": {
          "base_uri": "https://localhost:8080/"
        },
        "id": "c49dIhMc41SL",
        "outputId": "caea321f-6c36-45cc-cf16-546a75e2c8aa"
      },
      "outputs": [
        {
          "output_type": "stream",
          "name": "stdout",
          "text": [
            "-\n",
            "English:        you cant miss it\n",
            "Spanish (true):  no podeis perderoslo\n",
            "Spanish (pred):  no podes esconderme\n",
            "-\n",
            "English:        tom is poor\n",
            "Spanish (true):  tomas es pobre\n",
            "Spanish (pred):  tom es arrotupido\n",
            "-\n",
            "English:        you survived\n",
            "Spanish (true):  sobrevivio\n",
            "Spanish (pred):  estas levantado\n",
            "-\n",
            "English:        italy is in europe\n",
            "Spanish (true):  italia queda en europa\n",
            "Spanish (pred):  la vida es un  regunta\n",
            "-\n",
            "English:        im feeling confused\n",
            "Spanish (true):  me siento confundido\n",
            "Spanish (pred):  me siento confendido\n",
            "-\n",
            "English:        was tom in on it\n",
            "Spanish (true):  estuvo tom involucrado en esto\n",
            "Spanish (pred):  estaba tom en casa\n",
            "-\n",
            "English:        i lost my key\n",
            "Spanish (true):  he perdido la llave\n",
            "Spanish (pred):  perdi mi libro\n",
            "-\n",
            "English:        be brief\n",
            "Spanish (true):  sean breves\n",
            "Spanish (pred):  se aruera\n",
            "-\n",
            "English:        i wont leave\n",
            "Spanish (true):  no me ire\n",
            "Spanish (pred):  no me voy a ir\n",
            "-\n",
            "English:        tom might be wrong\n",
            "Spanish (true):  tom podria estar equivocado\n",
            "Spanish (pred):  tom podria estar equivocado\n",
            "-\n",
            "English:        do you drink\n",
            "Spanish (true):  bebes\n",
            "Spanish (pred):  lo sabes\n",
            "-\n",
            "English:        she made me a cake\n",
            "Spanish (true):  ella me hizo una torta\n",
            "Spanish (pred):  ella me hizo una carta\n",
            "-\n",
            "English:        lets go to the zoo\n",
            "Spanish (true):  vamos al zoo\n",
            "Spanish (pred):  vamos al coshe\n",
            "-\n",
            "English:        i love this song\n",
            "Spanish (true):  me encanta esta cancion\n",
            "Spanish (pred):  me encanta esta casa\n",
            "-\n",
            "English:        is he sleeping\n",
            "Spanish (true):  esta durmiendo\n",
            "Spanish (pred):  esta esperando\n",
            "-\n",
            "English:        hes not in\n",
            "Spanish (true):  no esta en casa\n",
            "Spanish (pred):  el no esta aqui\n",
            "-\n",
            "English:        tom stabbed mary\n",
            "Spanish (true):  tom apunalo a mary\n",
            "Spanish (pred):  tom se acobo a mary\n",
            "-\n",
            "English:        he spoke\n",
            "Spanish (true):  el hablo\n",
            "Spanish (pred):  el se fue\n",
            "-\n",
            "English:        were friends now\n",
            "Spanish (true):  ahora somos amigos\n",
            "Spanish (pred):  somos pordinos solos\n",
            "-\n",
            "English:        toms fast\n",
            "Spanish (true):  tom es rapido\n",
            "Spanish (pred):  tom esta contento\n"
          ]
        }
      ],
      "source": [
        "for seq_index in range(2100, 2120):\n",
        "    # Take one sequence (part of the training set)\n",
        "    # for trying out decoding.\n",
        "    input_seq = encoder_input_data[seq_index: seq_index + 1]\n",
        "    decoded_sentence = decode_sequence(input_seq)\n",
        "    print('-')\n",
        "    print('English:       ', input_texts[seq_index])\n",
        "    print('Spanish (true): ', target_texts[seq_index][1:-1])\n",
        "    print('Spanish (pred): ', decoded_sentence[0:-1])\n"
      ]
    },
    {
      "cell_type": "markdown",
      "metadata": {
        "id": "ucJ60TQJ41SL"
      },
      "source": [
        "### 4.2. Translate an English sentence to the target language （20 points）\n",
        "\n",
        "1. Tokenization\n",
        "2. One-hot encode\n",
        "3. Translate"
      ]
    },
    {
      "cell_type": "code",
      "execution_count": 70,
      "metadata": {
        "colab": {
          "base_uri": "https://localhost:8080/"
        },
        "id": "yTgYyVtQ41SL",
        "outputId": "f513af8a-63a1-459a-94e4-022cb0a91ae1"
      },
      "outputs": [
        {
          "output_type": "stream",
          "name": "stdout",
          "text": [
            "source sentence is: ['I love you']\n",
            "translated sentence is: tom esta enfermo\n",
            "\n"
          ]
        }
      ],
      "source": [
        "input_sentence = ['I love you']\n",
        "\n",
        "input_sequence, l = text2sequences(max_encoder_seq_length,input_sentence)\n",
        "\n",
        "input_x = onehot_encode(input_sequence, max_encoder_seq_length, num_encoder_tokens)\n",
        "\n",
        "translated_sentence = decode_sequence(input_x)\n",
        "\n",
        "print('source sentence is: ' + str(input_sentence))\n",
        "print('translated sentence is: ' + str(translated_sentence))"
      ]
    },
    {
      "cell_type": "markdown",
      "metadata": {
        "id": "NKXhmogo41SM"
      },
      "source": [
        "# 5. Evaluate the translation using BLEU score\n",
        "\n",
        "- We have already translated from English to target language, but how can we evaluate the performance of our model quantitatively? \n",
        "\n",
        "- In this section, you need to re-train the model we built in secton 3 and then evaluate the bleu score on testing dataset.\n",
        "\n",
        "Reference:\n",
        "\n",
        "https://machinelearningmastery.com/calculate-bleu-score-for-text-python/\n",
        "\n",
        "https://en.wikipedia.org/wiki/BLEU\n",
        "\n",
        "#### Hint:\n",
        "\n",
        "- Randomly partition the dataset to training, validation, and test.\n",
        "\n",
        "- Evaluate the BLEU score using the test set. Report the average.\n",
        "\n",
        "- You may use packages to calculate bleu score, e.g., sentence_bleu() from nltk package."
      ]
    },
    {
      "cell_type": "markdown",
      "metadata": {
        "id": "gweCyTOV41SM"
      },
      "source": [
        "### 5.1. Partition the dataset to training, validation, and test. Build new token index. (10 points)\n",
        "\n",
        "1. You may try to load more data/lines from text file.\n",
        "2. Convert text to sequences and build token index using training data.\n",
        "3. One-hot encode your training and validation text sequences."
      ]
    },
    {
      "cell_type": "code",
      "source": [
        "filename = 'spa.txt'\n",
        "\n",
        "# e.g., n_train = 30000\n",
        "n_train = 50000\n",
        "\n",
        "# load dataset\n",
        "doc = load_doc(filename)\n",
        "\n",
        "# split into Language1-Language2 pairs\n",
        "pairs = to_pairs(doc)\n",
        "\n",
        "# clean sentences\n",
        "clean_pairs = clean_data(pairs)[0:n_train, :]\n",
        "input_texts = clean_pairs[:,0]\n",
        "target_texts = ['\\t' + text + '\\n' for text in clean_pairs[:, 1]]"
      ],
      "metadata": {
        "id": "3jP1Q8ELxyud"
      },
      "execution_count": 80,
      "outputs": []
    },
    {
      "cell_type": "code",
      "execution_count": 83,
      "metadata": {
        "id": "fl-eHgKu41SM"
      },
      "outputs": [],
      "source": [
        "rand_indices = numpy.random.permutation(50000)\n",
        "train_indices = rand_indices[0:int(50000*.98)]\n",
        "test_indices = rand_indices[int(50000*.98):int(50000)]\n",
        "\n",
        "input_train = input_texts[train_indices]\n",
        "# input_valid = input_texts[valid_indices]\n",
        "input_test = input_texts[test_indices]\n",
        "\n",
        "target_train = numpy.asarray(target_texts)[train_indices]\n",
        "# target_valid = numpy.asarray(target_texts)[valid_indices]\n",
        "target_test = numpy.asarray(target_texts)[test_indices]"
      ]
    },
    {
      "cell_type": "code",
      "execution_count": 84,
      "metadata": {
        "colab": {
          "base_uri": "https://localhost:8080/"
        },
        "id": "5nEs53c-2eaX",
        "outputId": "77f52955-7006-4194-aa70-9f0356aa6128"
      },
      "outputs": [
        {
          "output_type": "stream",
          "name": "stdout",
          "text": [
            "shape of encoder_input_seq: (49000, 20)\n",
            "shape of input_token_index: 27\n",
            "shape of decoder_input_seq: (49000, 68)\n",
            "shape of target_token_index: 29\n"
          ]
        }
      ],
      "source": [
        "encoder_input_seq, input_token_index = text2sequences(max_encoder_seq_length, \n",
        "                                                      input_train)\n",
        "decoder_input_seq, target_token_index = text2sequences(max_decoder_seq_length, \n",
        "                                                       target_train)\n",
        "\n",
        "\n",
        "\n",
        "print('shape of encoder_input_seq: ' + str(encoder_input_seq.shape))\n",
        "print('shape of input_token_index: ' + str(len(input_token_index)))\n",
        "print('shape of decoder_input_seq: ' + str(decoder_input_seq.shape))\n",
        "print('shape of target_token_index: ' + str(len(target_token_index)))"
      ]
    },
    {
      "cell_type": "code",
      "execution_count": 85,
      "metadata": {
        "colab": {
          "base_uri": "https://localhost:8080/"
        },
        "id": "G-Q8N2Dd2ee_",
        "outputId": "65d43f1d-be14-4d91-d429-8cac6433b51b"
      },
      "outputs": [
        {
          "output_type": "stream",
          "name": "stdout",
          "text": [
            "(49000, 20, 28)\n",
            "(49000, 68, 30)\n"
          ]
        }
      ],
      "source": [
        "encoder_input_data = onehot_encode(encoder_input_seq, max_encoder_seq_length, num_encoder_tokens)\n",
        "decoder_input_data = onehot_encode(decoder_input_seq, max_decoder_seq_length, num_decoder_tokens)\n",
        "\n",
        "decoder_target_seq = numpy.zeros(decoder_input_seq.shape)\n",
        "decoder_target_seq[:, 0:-1] = decoder_input_seq[:, 1:]\n",
        "decoder_target_data = onehot_encode(decoder_target_seq, \n",
        "                                    max_decoder_seq_length, \n",
        "                                    num_decoder_tokens)\n",
        "\n",
        "print(encoder_input_data.shape)\n",
        "print(decoder_input_data.shape)"
      ]
    },
    {
      "cell_type": "markdown",
      "metadata": {
        "id": "PTxZAIHP41SM"
      },
      "source": [
        "### 5.2 Retrain your previous Bidirectional LSTM model with training and validation data and tune the parameters (learning rate, optimizer, etc) based on validation score. (25 points)\n",
        "\n",
        "1. Use the model structure in section 3 to train a new model with new training and validation datasets.\n",
        "2. Based on validation BLEU score or loss to tune parameters."
      ]
    },
    {
      "cell_type": "code",
      "execution_count": 94,
      "metadata": {
        "colab": {
          "base_uri": "https://localhost:8080/"
        },
        "id": "dtHCL1i_41SM",
        "outputId": "833044e2-624f-4198-9d28-59cc2b7f7441"
      },
      "outputs": [
        {
          "output_type": "stream",
          "name": "stdout",
          "text": [
            "Epoch 1/50\n",
            "490/490 [==============================] - 42s 74ms/step - loss: 0.8540\n",
            "Epoch 2/50\n",
            "490/490 [==============================] - 36s 74ms/step - loss: 0.7225\n",
            "Epoch 3/50\n",
            "490/490 [==============================] - 36s 73ms/step - loss: 0.6897\n",
            "Epoch 4/50\n",
            "490/490 [==============================] - 36s 74ms/step - loss: 0.6644\n",
            "Epoch 5/50\n",
            "490/490 [==============================] - 36s 73ms/step - loss: 0.6407\n",
            "Epoch 6/50\n",
            "490/490 [==============================] - 36s 73ms/step - loss: 0.6202\n",
            "Epoch 7/50\n",
            "490/490 [==============================] - 36s 73ms/step - loss: 0.6018\n",
            "Epoch 8/50\n",
            "490/490 [==============================] - 36s 73ms/step - loss: 0.5861\n",
            "Epoch 9/50\n",
            "490/490 [==============================] - 36s 73ms/step - loss: 0.5722\n",
            "Epoch 10/50\n",
            "490/490 [==============================] - 36s 73ms/step - loss: 0.5596\n",
            "Epoch 11/50\n",
            "490/490 [==============================] - 36s 74ms/step - loss: 0.5480\n",
            "Epoch 12/50\n",
            "490/490 [==============================] - 36s 73ms/step - loss: 0.5384\n",
            "Epoch 13/50\n",
            "490/490 [==============================] - 36s 73ms/step - loss: 0.5288\n",
            "Epoch 14/50\n",
            "490/490 [==============================] - 36s 73ms/step - loss: 0.5202\n",
            "Epoch 15/50\n",
            "490/490 [==============================] - 36s 74ms/step - loss: 0.5135\n",
            "Epoch 16/50\n",
            "490/490 [==============================] - 36s 74ms/step - loss: 0.5069\n",
            "Epoch 17/50\n",
            "490/490 [==============================] - 36s 73ms/step - loss: 0.5011\n",
            "Epoch 18/50\n",
            "490/490 [==============================] - 36s 74ms/step - loss: 0.4951\n",
            "Epoch 19/50\n",
            "490/490 [==============================] - 36s 74ms/step - loss: 0.4896\n",
            "Epoch 20/50\n",
            "490/490 [==============================] - 36s 73ms/step - loss: 0.4846\n",
            "Epoch 21/50\n",
            "490/490 [==============================] - 36s 74ms/step - loss: 0.4814\n",
            "Epoch 22/50\n",
            "490/490 [==============================] - 36s 74ms/step - loss: 0.4763\n",
            "Epoch 23/50\n",
            "490/490 [==============================] - 36s 73ms/step - loss: 0.4720\n",
            "Epoch 24/50\n",
            "490/490 [==============================] - 36s 73ms/step - loss: 0.4681\n",
            "Epoch 25/50\n",
            "490/490 [==============================] - 36s 74ms/step - loss: 0.4639\n",
            "Epoch 26/50\n",
            "490/490 [==============================] - 36s 73ms/step - loss: 0.4622\n",
            "Epoch 27/50\n",
            "490/490 [==============================] - 36s 74ms/step - loss: 0.4583\n",
            "Epoch 28/50\n",
            "490/490 [==============================] - 36s 74ms/step - loss: 0.4553\n",
            "Epoch 29/50\n",
            "490/490 [==============================] - 36s 73ms/step - loss: 0.4525\n",
            "Epoch 30/50\n",
            "490/490 [==============================] - 36s 73ms/step - loss: 0.4500\n",
            "Epoch 31/50\n",
            "490/490 [==============================] - 36s 73ms/step - loss: 0.4469\n",
            "Epoch 32/50\n",
            "490/490 [==============================] - 36s 73ms/step - loss: 0.4444\n",
            "Epoch 33/50\n",
            "490/490 [==============================] - 36s 73ms/step - loss: 0.4423\n",
            "Epoch 34/50\n",
            "490/490 [==============================] - 36s 73ms/step - loss: 0.4402\n",
            "Epoch 35/50\n",
            "490/490 [==============================] - 36s 73ms/step - loss: 0.4382\n",
            "Epoch 36/50\n",
            "490/490 [==============================] - 36s 73ms/step - loss: 0.4356\n",
            "Epoch 37/50\n",
            "490/490 [==============================] - 36s 73ms/step - loss: 0.4327\n",
            "Epoch 38/50\n",
            "490/490 [==============================] - 36s 73ms/step - loss: 0.4316\n",
            "Epoch 39/50\n",
            "490/490 [==============================] - 36s 73ms/step - loss: 0.4293\n",
            "Epoch 40/50\n",
            "490/490 [==============================] - 36s 73ms/step - loss: 0.4278\n",
            "Epoch 41/50\n",
            "490/490 [==============================] - 36s 73ms/step - loss: 0.4260\n",
            "Epoch 42/50\n",
            "490/490 [==============================] - 36s 73ms/step - loss: 0.4239\n",
            "Epoch 43/50\n",
            "490/490 [==============================] - 36s 73ms/step - loss: 0.4216\n",
            "Epoch 44/50\n",
            "490/490 [==============================] - 36s 73ms/step - loss: 0.4212\n",
            "Epoch 45/50\n",
            "490/490 [==============================] - 36s 73ms/step - loss: 0.4186\n",
            "Epoch 46/50\n",
            "490/490 [==============================] - 36s 73ms/step - loss: 0.4165\n",
            "Epoch 47/50\n",
            "490/490 [==============================] - 36s 73ms/step - loss: 0.4153\n",
            "Epoch 48/50\n",
            "490/490 [==============================] - 36s 73ms/step - loss: 0.4137\n",
            "Epoch 49/50\n",
            "490/490 [==============================] - 36s 74ms/step - loss: 0.4119\n",
            "Epoch 50/50\n",
            "490/490 [==============================] - 36s 74ms/step - loss: 0.4117\n"
          ]
        }
      ],
      "source": [
        "model.load_weights(\"model_pretrain.h5\")\n",
        "model.compile(optimizer='adam', loss='categorical_crossentropy')\n",
        "model.fit([encoder_input_data, decoder_input_data],  # training data\n",
        "          decoder_target_data,                       # labels (left shift of the target sequences)\n",
        "          batch_size=100, epochs=50)\n",
        "\n",
        "model.save('seq2seq_split.h5')"
      ]
    },
    {
      "cell_type": "markdown",
      "metadata": {
        "id": "UQylkXzq41SM"
      },
      "source": [
        "### 5.3 Evaluate the BLEU score using the test set. (15 points)\n",
        "\n",
        "1. Use trained model above to calculate the BLEU score with testing dataset."
      ]
    },
    {
      "cell_type": "code",
      "execution_count": 92,
      "metadata": {
        "colab": {
          "base_uri": "https://localhost:8080/"
        },
        "id": "f9CCMg2P41SM",
        "outputId": "a3fa77e9-e310-4151-c288-24b7ff25b7f5"
      },
      "outputs": [
        {
          "output_type": "stream",
          "name": "stdout",
          "text": [
            "0.537284965911771\n",
            "0.15851165692617156\n",
            "0.14211672443220438\n",
            "0.2777619034011791\n",
            "0.42728700639623407\n",
            "0.2777619034011791\n",
            "0.16590387014219715\n",
            "0.5946035575013605\n",
            "0.13674406678232567\n",
            "0.11502783619900042\n",
            "0.537284965911771\n",
            "0.29071536848410967\n",
            "0.5946035575013605\n",
            "0.15851165692617156\n",
            "0.42728700639623407\n",
            "0.537284965911771\n",
            "0.13674406678232567\n",
            "0.17242221289766627\n",
            "0.5\n",
            "0.537284965911771\n",
            "0.18575057999133598\n",
            "0.3021375397356768\n",
            "0.2777619034011791\n",
            "0.537284965911771\n",
            "0.5946035575013605\n",
            "0.11633270842295028\n",
            "0.14211672443220438\n",
            "0.537284965911771\n",
            "0.12571192676522522\n",
            "0.4518010018049224\n",
            "0.2777619034011791\n",
            "0.5946035575013605\n",
            "0.2626909894424158\n",
            "0.24446151121745052\n",
            "0.1558010570411745\n",
            "0.4518010018049224\n",
            "0.08282282660969602\n",
            "0.42728700639623407\n",
            "0.16590387014219715\n",
            "0.14694106251955755\n",
            "0.11633270842295028\n",
            "0.17827531042796255\n",
            "0.09917720727091445\n",
            "0.0889696287266969\n",
            "0.13674406678232567\n",
            "0.21105340631872635\n",
            "0.5946035575013605\n",
            "0.537284965911771\n",
            "0.537284965911771\n",
            "0.5\n",
            "0.3021375397356768\n",
            "0.11633270842295028\n",
            "0.5946035575013605\n",
            "0.5946035575013605\n",
            "0.14211672443220438\n",
            "0.14694106251955755\n",
            "0.5\n",
            "0.5946035575013605\n",
            "0.16590387014219715\n",
            "0.13674406678232567\n",
            "0.2626909894424158\n",
            "0.537284965911771\n",
            "0.4518010018049224\n",
            "0.07832899330004497\n",
            "0.25406637407730737\n",
            "0.17242221289766627\n",
            "0.537284965911771\n",
            "0.10657284485555579\n",
            "0.16590387014219715\n",
            "0.17033186037639278\n",
            "0.29071536848410967\n",
            "0.1558010570411745\n",
            "0.14694106251955755\n",
            "0.14211672443220438\n",
            "0.537284965911771\n",
            "0.16590387014219715\n",
            "0.5946035575013605\n",
            "0.537284965911771\n",
            "0.16590387014219715\n",
            "0.42728700639623407\n",
            "0.29071536848410967\n",
            "0.17242221289766627\n",
            "0.11114924776032006\n",
            "0.10825978373090527\n",
            "0.537284965911771\n",
            "0.17242221289766627\n",
            "0.537284965911771\n",
            "0.5\n",
            "0.13217947626377288\n",
            "0.15133218633429316\n",
            "0.11633270842295028\n",
            "0.11203754340102182\n",
            "0.5946035575013605\n",
            "0.14694106251955755\n",
            "0.14211672443220438\n",
            "0.14694106251955755\n",
            "0.537284965911771\n",
            "0.537284965911771\n",
            "0.4518010018049224\n",
            "0.5\n",
            "0.4518010018049224\n",
            "0.24446151121745052\n",
            "0.5946035575013605\n",
            "0.13674406678232567\n",
            "0.14211672443220438\n",
            "0.4518010018049224\n",
            "0.24446151121745052\n",
            "0.16590387014219715\n",
            "0.537284965911771\n",
            "0.2777619034011791\n",
            "0.5946035575013605\n",
            "0.2777619034011791\n",
            "0.16590387014219715\n",
            "0.12571192676522522\n",
            "0.06964541799727335\n",
            "0.537284965911771\n",
            "0.5\n",
            "0.09917720727091445\n",
            "0.14991106946711685\n",
            "0.1198091452856599\n",
            "0.5\n",
            "0.5\n",
            "0.16590387014219715\n",
            "0.2626909894424158\n",
            "0.0866852806734874\n",
            "0.537284965911771\n",
            "0.10521495173810227\n",
            "0.09354688318825603\n",
            "0.5946035575013605\n",
            "0.537284965911771\n",
            "0.24446151121745052\n",
            "0.537284965911771\n",
            "0.21105340631872635\n",
            "0.42728700639623407\n",
            "0.24446151121745052\n",
            "0.5946035575013605\n",
            "0.14694106251955755\n",
            "0.537284965911771\n",
            "0.4518010018049224\n",
            "0.23356898886410005\n",
            "0.4518010018049224\n",
            "0.5946035575013605\n",
            "0.14211672443220438\n",
            "0.42728700639623407\n",
            "0.4518010018049224\n",
            "0.25406637407730737\n",
            "0.16590387014219715\n",
            "0.17827531042796255\n",
            "0.537284965911771\n",
            "0.2777619034011791\n",
            "0.15133218633429316\n",
            "0.5\n",
            "0.14211672443220438\n",
            "0.2777619034011791\n",
            "0.29071536848410967\n",
            "0.17242221289766627\n",
            "0.14694106251955755\n",
            "0.12090340630072073\n",
            "0.14694106251955755\n",
            "0.09629943614188137\n",
            "0.29071536848410967\n",
            "0.537284965911771\n",
            "0.5946035575013605\n",
            "0.537284965911771\n",
            "0.3021375397356768\n",
            "0.13217947626377288\n",
            "0.2777619034011791\n",
            "0.16590387014219715\n",
            "0.25406637407730737\n",
            "0.18575057999133598\n",
            "0.5946035575013605\n",
            "0.5\n",
            "0.537284965911771\n",
            "0.537284965911771\n",
            "0.2626909894424158\n",
            "0.2777619034011791\n",
            "0.29071536848410967\n",
            "0.16590387014219715\n",
            "0.2626909894424158\n",
            "0.5946035575013605\n",
            "0.11203754340102182\n",
            "0.29071536848410967\n",
            "0.15133218633429316\n",
            "0.29071536848410967\n",
            "0.42728700639623407\n",
            "0.537284965911771\n",
            "0.13674406678232567\n",
            "0.25406637407730737\n",
            "0.10802314890908067\n",
            "0.14694106251955755\n",
            "0.1558010570411745\n",
            "0.29071536848410967\n",
            "0.14211672443220438\n",
            "0.5946035575013605\n",
            "0.29071536848410967\n",
            "0.5946035575013605\n",
            "0.5946035575013605\n",
            "0.2777619034011791\n",
            "0.4518010018049224\n",
            "0.537284965911771\n",
            "0.1558010570411745\n",
            "0.5\n",
            "0.537284965911771\n",
            "0.14694106251955755\n",
            "0.1558010570411745\n",
            "0.09917720727091445\n",
            "0.13674406678232567\n",
            "0.09917720727091445\n",
            "0.537284965911771\n",
            "0.25406637407730737\n",
            "0.13065113298388567\n",
            "0.161089927696874\n",
            "0.537284965911771\n",
            "0.29071536848410967\n",
            "0.537284965911771\n",
            "0.21934566882541542\n",
            "0.5\n",
            "0.5946035575013605\n",
            "0.08461633959345022\n",
            "0.537284965911771\n",
            "0.1558010570411745\n",
            "0.24446151121745052\n",
            "0.14991106946711685\n",
            "0.14211672443220438\n",
            "0.14211672443220438\n",
            "0.13674406678232567\n",
            "0.08461633959345022\n",
            "0.42728700639623407\n",
            "0.1350862565735141\n",
            "0.537284965911771\n",
            "0.5\n",
            "0.5946035575013605\n",
            "0.21105340631872635\n",
            "0.11502783619900042\n",
            "0.161089927696874\n",
            "0.10427961492353341\n",
            "0.4518010018049224\n",
            "0.537284965911771\n",
            "0.3021375397356768\n",
            "0.4518010018049224\n",
            "0.29071536848410967\n",
            "0.14211672443220438\n",
            "0.14694106251955755\n",
            "0.537284965911771\n",
            "0.5\n",
            "0.3976353643835253\n",
            "0.5\n",
            "0.3021375397356768\n",
            "0.5\n",
            "0.2777619034011791\n",
            "0.537284965911771\n",
            "0.21934566882541542\n",
            "0.18360281349467963\n",
            "0.22089591134157885\n",
            "0.5\n",
            "0.14211672443220438\n",
            "0.1558010570411745\n",
            "0.14991106946711685\n",
            "0.09107438368292145\n",
            "0.20164945583740668\n",
            "0.5\n",
            "0.537284965911771\n",
            "0.2777619034011791\n",
            "0.4518010018049224\n",
            "0.09379601158083607\n",
            "0.537284965911771\n",
            "0.15133218633429316\n",
            "0.13674406678232567\n",
            "0.4518010018049224\n",
            "0.4518010018049224\n",
            "0.5\n",
            "0.07265857755970445\n",
            "0.2777619034011791\n",
            "0.24446151121745052\n",
            "0.08216107324922536\n",
            "0.537284965911771\n",
            "0.537284965911771\n",
            "0.29071536848410967\n",
            "0.15851165692617156\n",
            "0.537284965911771\n",
            "0.537284965911771\n",
            "0.09354688318825603\n",
            "0.161089927696874\n",
            "0.537284965911771\n",
            "0.42728700639623407\n",
            "0.2777619034011791\n",
            "0.23356898886410005\n",
            "0.12874330508144838\n",
            "0.5\n",
            "0.29071536848410967\n",
            "0.08808424865565326\n",
            "0.17242221289766627\n",
            "0.2777619034011791\n",
            "0.537284965911771\n",
            "0.16590387014219715\n",
            "0.3021375397356768\n",
            "0.537284965911771\n",
            "0.537284965911771\n",
            "0.537284965911771\n",
            "0.15851165692617156\n",
            "0.19960198807747329\n",
            "0.42728700639623407\n",
            "0.29071536848410967\n",
            "0.5946035575013605\n",
            "0.2626909894424158\n",
            "0.16590387014219715\n",
            "0.13674406678232567\n",
            "0.25406637407730737\n",
            "0.09629943614188137\n",
            "0.16590387014219715\n",
            "0.4518010018049224\n",
            "0.5\n",
            "0.21934566882541542\n",
            "0.16590387014219715\n",
            "0.5946035575013605\n",
            "0.09880782578056979\n",
            "0.14694106251955755\n",
            "0.5946035575013605\n",
            "0.537284965911771\n",
            "0.5946035575013605\n",
            "0.21105340631872635\n",
            "0.2777619034011791\n",
            "0.5946035575013605\n",
            "0.537284965911771\n",
            "0.537284965911771\n",
            "0.29071536848410967\n",
            "0.17747405280050263\n",
            "0.42728700639623407\n",
            "0.16590387014219715\n",
            "0.07604702045223338\n",
            "0.4518010018049224\n",
            "0.11203754340102182\n",
            "0.2777619034011791\n",
            "0.537284965911771\n",
            "0.17242221289766627\n",
            "0.2777619034011791\n",
            "0.14211672443220438\n",
            "0.12874330508144838\n",
            "0.5\n",
            "0.5946035575013605\n",
            "0.29071536848410967\n",
            "0.5946035575013605\n",
            "0.2777619034011791\n",
            "0.4518010018049224\n",
            "0.5946035575013605\n",
            "0.537284965911771\n",
            "0.4518010018049224\n",
            "0.18575057999133598\n",
            "0.537284965911771\n",
            "0.5946035575013605\n",
            "0.2626909894424158\n",
            "0.29071536848410967\n",
            "0.537284965911771\n",
            "0.17827531042796255\n",
            "0.2777619034011791\n",
            "0.537284965911771\n",
            "0.537284965911771\n",
            "0.14211672443220438\n",
            "0.29071536848410967\n",
            "0.537284965911771\n",
            "0.06798898171917447\n",
            "0.10123734869668824\n",
            "0.25406637407730737\n",
            "0.16590387014219715\n",
            "0.13674406678232567\n",
            "0.537284965911771\n",
            "0.5946035575013605\n",
            "0.4518010018049224\n",
            "0.5946035575013605\n",
            "0.29071536848410967\n",
            "0.08104064855774029\n",
            "0.5946035575013605\n",
            "0.3021375397356768\n",
            "0.42728700639623407\n",
            "0.24446151121745052\n",
            "0.2626909894424158\n",
            "0.5946035575013605\n",
            "0.161089927696874\n",
            "0.5946035575013605\n",
            "0.537284965911771\n",
            "0.537284965911771\n",
            "0.16590387014219715\n",
            "0.17242221289766627\n",
            "0.29071536848410967\n",
            "0.17242221289766627\n",
            "0.16590387014219715\n",
            "0.17747405280050263\n",
            "0.5\n",
            "0.5946035575013605\n",
            "0.5946035575013605\n",
            "0.537284965911771\n",
            "0.4518010018049224\n",
            "0.5\n",
            "0.5\n",
            "0.5\n",
            "0.5946035575013605\n",
            "0.5946035575013605\n",
            "0.29071536848410967\n",
            "0.09629943614188137\n",
            "0.2777619034011791\n",
            "0.13674406678232567\n",
            "0.42728700639623407\n",
            "0.5\n",
            "0.2777619034011791\n",
            "0.08687475782716618\n",
            "0.29071536848410967\n",
            "0.537284965911771\n",
            "0.4518010018049224\n",
            "0.537284965911771\n",
            "0.5\n",
            "0.21934566882541542\n",
            "0.5946035575013605\n",
            "0.29071536848410967\n",
            "0.1558010570411745\n",
            "0.14211672443220438\n",
            "0.11502783619900042\n",
            "0.13674406678232567\n",
            "0.5946035575013605\n",
            "0.3021375397356768\n",
            "0.23356898886410005\n",
            "0.5946035575013605\n",
            "0.5946035575013605\n",
            "0.537284965911771\n",
            "0.537284965911771\n",
            "0.22089591134157885\n",
            "0.2777619034011791\n",
            "0.3021375397356768\n",
            "0.29071536848410967\n",
            "0.5946035575013605\n",
            "0.537284965911771\n",
            "0.29071536848410967\n",
            "0.14211672443220438\n",
            "0.537284965911771\n",
            "0.537284965911771\n",
            "0.29071536848410967\n",
            "0.14211672443220438\n",
            "0.08104064855774029\n",
            "0.10878661088699644\n",
            "0.12571192676522522\n",
            "0.2777619034011791\n",
            "0.17827531042796255\n",
            "0.23356898886410005\n",
            "0.5\n",
            "0.09917720727091445\n",
            "0.2777619034011791\n",
            "0.17242221289766627\n",
            "0.5946035575013605\n",
            "0.5\n",
            "0.2626909894424158\n",
            "0.42728700639623407\n",
            "0.42728700639623407\n",
            "0.12874330508144838\n",
            "0.08461633959345022\n",
            "0.537284965911771\n",
            "0.2777619034011791\n",
            "0.2626909894424158\n",
            "0.23356898886410005\n",
            "0.5946035575013605\n",
            "0.25406637407730737\n",
            "0.09379601158083607\n",
            "0.2777619034011791\n",
            "0.3021375397356768\n",
            "0.10521495173810227\n",
            "0.5946035575013605\n",
            "0.537284965911771\n",
            "0.15851165692617156\n",
            "0.4518010018049224\n",
            "0.09917720727091445\n",
            "0.3021375397356768\n",
            "0.16590387014219715\n",
            "0.29071536848410967\n",
            "0.4518010018049224\n",
            "0.24446151121745052\n",
            "0.1198091452856599\n",
            "0.2626909894424158\n",
            "0.14211672443220438\n",
            "0.29071536848410967\n",
            "0.29071536848410967\n",
            "0.24446151121745052\n",
            "0.21105340631872635\n",
            "0.161089927696874\n",
            "0.21934566882541542\n",
            "0.19304869754804482\n",
            "0.12874330508144838\n",
            "0.29071536848410967\n",
            "0.161089927696874\n",
            "0.2777619034011791\n",
            "0.2777619034011791\n",
            "0.537284965911771\n",
            "0.17242221289766627\n",
            "0.19304869754804482\n",
            "0.14694106251955755\n",
            "0.13674406678232567\n",
            "0.21934566882541542\n",
            "0.18575057999133598\n",
            "0.537284965911771\n",
            "0.5946035575013605\n",
            "0.19960198807747329\n",
            "0.14211672443220438\n",
            "0.07378790595215932\n",
            "0.5946035575013605\n",
            "0.24446151121745052\n",
            "0.537284965911771\n",
            "0.14694106251955755\n",
            "0.1391231164417657\n",
            "0.17827531042796255\n",
            "0.537284965911771\n",
            "0.21105340631872635\n",
            "0.5946035575013605\n",
            "0.2777619034011791\n",
            "0.23356898886410005\n",
            "0.2777619034011791\n",
            "0.09629943614188137\n",
            "0.09629943614188137\n",
            "0.537284965911771\n",
            "0.19304869754804482\n",
            "0.18575057999133598\n",
            "0.537284965911771\n",
            "0.537284965911771\n",
            "0.14694106251955755\n",
            "0.14694106251955755\n",
            "0.16590387014219715\n",
            "0.537284965911771\n",
            "0.13065113298388567\n",
            "0.42728700639623407\n",
            "0.10802314890908067\n",
            "0.1558010570411745\n",
            "0.537284965911771\n",
            "0.17242221289766627\n",
            "0.2777619034011791\n",
            "0.42728700639623407\n",
            "0.2777619034011791\n",
            "0.5\n",
            "0.3021375397356768\n",
            "0.09862157080401406\n",
            "0.22089591134157885\n",
            "0.29071536848410967\n",
            "0.29071536848410967\n",
            "0.23356898886410005\n",
            "0.537284965911771\n",
            "0.14991106946711685\n",
            "0.12300686288463772\n",
            "0.2777619034011791\n",
            "0.537284965911771\n",
            "0.16590387014219715\n",
            "0.5\n",
            "0.11203754340102182\n",
            "0.2626909894424158\n",
            "0.29071536848410967\n",
            "0.5946035575013605\n",
            "0.1350862565735141\n",
            "0.2626909894424158\n",
            "0.101824256461955\n",
            "0.21105340631872635\n",
            "0.21105340631872635\n",
            "0.21105340631872635\n",
            "0.29071536848410967\n",
            "0.537284965911771\n",
            "0.5946035575013605\n",
            "0.15851165692617156\n",
            "0.42728700639623407\n",
            "0.2777619034011791\n",
            "0.2626909894424158\n",
            "0.42728700639623407\n",
            "0.29071536848410967\n",
            "0.537284965911771\n",
            "0.2777619034011791\n",
            "0.15851165692617156\n",
            "0.2777619034011791\n",
            "0.14694106251955755\n",
            "0.21105340631872635\n",
            "0.4518010018049224\n",
            "0.5946035575013605\n",
            "0.42728700639623407\n",
            "0.5\n",
            "0.14694106251955755\n",
            "0.2626909894424158\n",
            "0.537284965911771\n",
            "0.3021375397356768\n",
            "0.5946035575013605\n",
            "0.0889696287266969\n",
            "0.537284965911771\n",
            "0.11633270842295028\n",
            "0.5946035575013605\n",
            "0.2626909894424158\n",
            "0.14211672443220438\n",
            "0.10802314890908067\n",
            "0.5\n",
            "0.537284965911771\n",
            "0.5946035575013605\n",
            "0.42728700639623407\n",
            "0.537284965911771\n",
            "0.16590387014219715\n",
            "0.42728700639623407\n",
            "0.29071536848410967\n",
            "0.537284965911771\n",
            "0.5946035575013605\n",
            "0.17242221289766627\n",
            "0.5946035575013605\n",
            "0.29071536848410967\n",
            "0.2777619034011791\n",
            "0.12090340630072073\n",
            "0.24446151121745052\n",
            "0.13674406678232567\n",
            "0.5946035575013605\n",
            "0.18360281349467963\n",
            "0.101824256461955\n",
            "0.14211672443220438\n",
            "0.14694106251955755\n",
            "0.2777619034011791\n",
            "0.1558010570411745\n",
            "0.16590387014219715\n",
            "0.537284965911771\n",
            "0.5\n",
            "0.13065113298388567\n",
            "0.537284965911771\n",
            "0.537284965911771\n",
            "0.16590387014219715\n",
            "0.0714868368228181\n",
            "0.537284965911771\n",
            "0.12571192676522522\n",
            "0.5946035575013605\n",
            "0.14694106251955755\n",
            "0.14211672443220438\n",
            "0.537284965911771\n",
            "0.20164945583740668\n",
            "0.42728700639623407\n",
            "0.10343603005129705\n",
            "0.5\n",
            "0.5946035575013605\n",
            "0.3021375397356768\n",
            "0.5946035575013605\n",
            "0.0889696287266969\n",
            "0.13065113298388567\n",
            "0.11633270842295028\n",
            "0.537284965911771\n",
            "0.537284965911771\n",
            "0.537284965911771\n",
            "0.2777619034011791\n",
            "0.5946035575013605\n",
            "0.5946035575013605\n",
            "0.20164945583740668\n",
            "0.13065113298388567\n",
            "0.15133218633429316\n",
            "0.537284965911771\n",
            "0.23356898886410005\n",
            "0.537284965911771\n",
            "0.2777619034011791\n",
            "0.10878661088699644\n",
            "0.17242221289766627\n",
            "0.5\n",
            "0.08282282660969602\n",
            "0.2777619034011791\n",
            "0.29071536848410967\n",
            "0.5\n",
            "0.537284965911771\n",
            "0.5\n",
            "0.4518010018049224\n",
            "0.09880782578056979\n",
            "0.24446151121745052\n",
            "0.1250076305588977\n",
            "0.5\n",
            "0.4518010018049224\n",
            "0.5\n",
            "0.2626909894424158\n",
            "0.537284965911771\n",
            "0.5946035575013605\n",
            "0.08104064855774029\n",
            "0.5\n",
            "0.12874330508144838\n",
            "0.2777619034011791\n",
            "0.14694106251955755\n",
            "0.537284965911771\n",
            "0.07575731225158963\n",
            "0.2777619034011791\n",
            "0.5\n",
            "0.2777619034011791\n",
            "0.09134423666564473\n",
            "0.19960198807747329\n",
            "0.13674406678232567\n",
            "0.12571192676522522\n",
            "0.15133218633429316\n",
            "0.19960198807747329\n",
            "0.16590387014219715\n",
            "0.21105340631872635\n",
            "0.5946035575013605\n",
            "0.16590387014219715\n",
            "0.11203754340102182\n",
            "0.14694106251955755\n",
            "0.21105340631872635\n",
            "0.4518010018049224\n",
            "0.17242221289766627\n",
            "0.5946035575013605\n",
            "0.537284965911771\n",
            "0.2777619034011791\n",
            "0.161089927696874\n",
            "0.16590387014219715\n",
            "0.18575057999133598\n",
            "0.537284965911771\n",
            "0.25406637407730737\n",
            "0.17242221289766627\n",
            "0.06871624004919695\n",
            "0.29071536848410967\n",
            "0.2777619034011791\n",
            "0.537284965911771\n",
            "0.537284965911771\n",
            "0.5946035575013605\n",
            "0.4518010018049224\n",
            "0.21934566882541542\n",
            "0.17242221289766627\n",
            "0.5\n",
            "0.09276399526013226\n",
            "0.42728700639623407\n",
            "0.21105340631872635\n",
            "0.537284965911771\n",
            "0.21105340631872635\n",
            "0.10216198665886358\n",
            "0.2777619034011791\n",
            "0.12090340630072073\n",
            "0.537284965911771\n",
            "0.5\n",
            "0.23356898886410005\n",
            "0.29071536848410967\n",
            "0.13674406678232567\n",
            "0.21934566882541542\n",
            "0.14283632578659286\n",
            "0.537284965911771\n",
            "0.5946035575013605\n",
            "0.16590387014219715\n",
            "0.5946035575013605\n",
            "0.161089927696874\n",
            "0.2626909894424158\n",
            "0.5946035575013605\n",
            "0.537284965911771\n",
            "0.2777619034011791\n",
            "0.13065113298388567\n",
            "0.4518010018049224\n",
            "0.19304869754804482\n",
            "0.4518010018049224\n",
            "0.537284965911771\n",
            "0.14694106251955755\n",
            "0.13065113298388567\n",
            "0.1250076305588977\n",
            "0.18575057999133598\n"
          ]
        }
      ],
      "source": [
        "from nltk.translate.bleu_score import sentence_bleu\n",
        "from nltk.translate.bleu_score import SmoothingFunction\n",
        "smoothIt = SmoothingFunction().method2\n",
        "bleu_list = []\n",
        "for n in range(len(input_test)):\n",
        "  \n",
        "  test_string = input_test[n]\n",
        "  target = target_test[n]\n",
        "  input = [test_string]\n",
        "\n",
        "  encoder_input_seq,l= text2sequences(max_encoder_seq_length,input)\n",
        "  input_x = onehot_encode(encoder_input_seq, max_encoder_seq_length, num_encoder_tokens)\n",
        "  \n",
        "  #it was showing some keyErrors because we used a smoothing function\n",
        "\n",
        "  try:\n",
        "    translated = decode_sequence(input_x)\n",
        "  except KeyError as err:\n",
        "    continue\n",
        "  score = sentence_bleu(target, translated, smoothing_function = smoothIt)\n",
        "\n",
        "  print(score)\n",
        "  bleu_list.append(score)"
      ]
    },
    {
      "cell_type": "code",
      "execution_count": 93,
      "metadata": {
        "id": "0Rv9oX9KhqNh",
        "colab": {
          "base_uri": "https://localhost:8080/"
        },
        "outputId": "598dc44d-8e73-4e87-eaae-bba702150abc"
      },
      "outputs": [
        {
          "output_type": "stream",
          "name": "stdout",
          "text": [
            "BLEU score is: 0.31891814690144044\n"
          ]
        }
      ],
      "source": [
        "print('BLEU score is:',numpy.mean(bleu_list))"
      ]
    }
  ],
  "metadata": {
    "accelerator": "GPU",
    "colab": {
      "name": "Assignment3 (1).ipynb",
      "provenance": []
    },
    "kernelspec": {
      "display_name": "Python 3",
      "language": "python",
      "name": "python3"
    },
    "language_info": {
      "codemirror_mode": {
        "name": "ipython",
        "version": 3
      },
      "file_extension": ".py",
      "mimetype": "text/x-python",
      "name": "python",
      "nbconvert_exporter": "python",
      "pygments_lexer": "ipython3",
      "version": "3.8.8"
    }
  },
  "nbformat": 4,
  "nbformat_minor": 0
}